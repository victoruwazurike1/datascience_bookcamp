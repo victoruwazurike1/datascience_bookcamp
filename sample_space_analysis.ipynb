{
 "cells": [
  {
   "cell_type": "markdown",
   "metadata": {},
   "source": [
    "# Sample space analysis"
   ]
  },
  {
   "cell_type": "code",
   "execution_count": 1,
   "metadata": {},
   "outputs": [],
   "source": [
    "# We are going to create a sample space for a coin, it is going to be a set \n",
    "sample_space = {'Heads', 'Tails'}"
   ]
  },
  {
   "cell_type": "code",
   "execution_count": 2,
   "metadata": {},
   "outputs": [
    {
     "name": "stdout",
     "output_type": "stream",
     "text": [
      "Probability of choosing heads is 0.5\n"
     ]
    }
   ],
   "source": [
    "# Let us compute the probability of heads\n",
    "probability_heads = 1 / len(sample_space)\n",
    "print(f'Probability of choosing heads is {probability_heads}')"
   ]
  },
  {
   "cell_type": "code",
   "execution_count": 3,
   "metadata": {},
   "outputs": [],
   "source": [
    "# We are going to define two event conditions \n",
    "# One where the coin lands on either head or tail \n",
    "# The second condition is where the coin lands on neither head or tail\n",
    "def is_heads_or_tails(outcome) : return outcome in {'Heads', 'Tails'}\n",
    "def is_neither(outcome): return outcome not in {'Heads', 'Tails'}"
   ]
  },
  {
   "cell_type": "code",
   "execution_count": 4,
   "metadata": {},
   "outputs": [],
   "source": [
    "# Let us also define event conditions for the two basic events\n",
    "def is_heads(outcome): return outcome == 'Heads'\n",
    "def is_tails(outcome): return outcome == 'Tails'"
   ]
  },
  {
   "cell_type": "code",
   "execution_count": 5,
   "metadata": {},
   "outputs": [],
   "source": [
    "# Let us define a function with inputs as an event condition and a generic sample space\n",
    "# The function iterates through the generic sample space and returns the set of outcomes\n",
    "# where event_condition(outcome) is True \n",
    "def get_matching_event(event_condition, sample_space) :\n",
    "    return set(\n",
    "        [\n",
    "            outcome for outcome in sample_space\n",
    "            if event_condition(outcome)\n",
    "        ]\n",
    "    )"
   ]
  },
  {
   "cell_type": "code",
   "execution_count": 6,
   "metadata": {},
   "outputs": [
    {
     "name": "stdout",
     "output_type": "stream",
     "text": [
      "Event Condition: is_heads_or_tails\n",
      "Event: {'Tails', 'Heads'}\n",
      "\n",
      "Event Condition: is_heads\n",
      "Event: {'Heads'}\n",
      "\n",
      "Event Condition: is_tails\n",
      "Event: {'Tails'}\n",
      "\n",
      "Event Condition: is_neither\n",
      "Event: set()\n",
      "\n"
     ]
    }
   ],
   "source": [
    "# We will execute the get_matching event on our four event conditions \n",
    "event_conditions = [is_heads_or_tails, is_heads, is_tails, is_neither]\n",
    "for event_condition in event_conditions:\n",
    "    print(f'Event Condition: {event_condition.__name__}')\n",
    "    event = get_matching_event(event_condition, sample_space)\n",
    "    print(f'Event: {event}\\n')\n"
   ]
  },
  {
   "cell_type": "code",
   "execution_count": 7,
   "metadata": {},
   "outputs": [
    {
     "name": "stdout",
     "output_type": "stream",
     "text": [
      "Probability of event arising from 'is_heads_or_tails' is 1.0\n",
      "Probability of event arising from 'is_heads' is 0.5\n",
      "Probability of event arising from 'is_tails' is 0.5\n",
      "Probability of event arising from 'is_neither' is 0.0\n"
     ]
    }
   ],
   "source": [
    "# Now we are going to use event size to compute the four event probabilities \n",
    "def compute_probability(event_condition, generic_sample_space):\n",
    "    event = get_matching_event(event_condition, generic_sample_space)\n",
    "    return len(event) / len(generic_sample_space)\n",
    "\n",
    "for event_condition in event_conditions:\n",
    "    prob = compute_probability(event_condition, sample_space)\n",
    "    name = event_condition.__name__\n",
    "    print(f'Probability of event arising from \\'{name}\\' is {prob}')"
   ]
  },
  {
   "cell_type": "code",
   "execution_count": 8,
   "metadata": {},
   "outputs": [
    {
     "name": "stdout",
     "output_type": "stream",
     "text": [
      "5\n"
     ]
    }
   ],
   "source": [
    "# Now we are going to attempt to analyse a biased coin by assigning weights\n",
    "# We are going to assume that a coin is four times more likely to land on heads relative to tails \n",
    "weighted_sample_space = {'Heads' : 4, 'Tails': 1}\n",
    "# Our new sample_space is stored in a dictionary and the sum of weights is 5\n",
    "# We can still confirm that if we want to \n",
    "sample_space_size = sum(weighted_sample_space.values())\n",
    "assert sample_space_size == 5\n",
    "print(sample_space_size)"
   ]
  },
  {
   "cell_type": "code",
   "execution_count": 9,
   "metadata": {},
   "outputs": [],
   "source": [
    "# We are going to check the weighted event size \n",
    "# Recall that python iterates of dictionary keys \n",
    "event = get_matching_event(is_heads_or_tails, weighted_sample_space)\n",
    "event_size = sum(weighted_sample_space[outcome] for outcome in event)\n",
    "assert event_size == 5"
   ]
  },
  {
   "cell_type": "code",
   "execution_count": 10,
   "metadata": {},
   "outputs": [],
   "source": [
    "# Let us define a generalized event probability function \n",
    "# The generic_sample_space variable can either be a weighed dictionary or an unweighted set\n",
    "def compute_event_probability(event_condition, generic_sample_space):\n",
    "    event = get_matching_event(event_condition, generic_sample_space)\n",
    "    if type(generic_sample_space) == type(set()):\n",
    "        return len(event) / len(generic_sample_space)\n",
    "    event_size = sum(generic_sample_space[outcome]\n",
    "        for outcome in event)\n",
    "    return event_size / sum(generic_sample_space.values())\n",
    "\n",
    "# We can now output all the event probabilities for the biased coin \n",
    "# without needing to redefine our four event conditions "
   ]
  },
  {
   "cell_type": "code",
   "execution_count": 11,
   "metadata": {},
   "outputs": [
    {
     "name": "stdout",
     "output_type": "stream",
     "text": [
      "Probability of event arising from 'is_heads_or_tails' is 1.0\n",
      "Probability of event arising from 'is_heads' is 0.8\n",
      "Probability of event arising from 'is_tails' is 0.2\n",
      "Probability of event arising from 'is_neither' is 0.0\n"
     ]
    }
   ],
   "source": [
    "# Let us try computing weighted event probabilities\n",
    "for event_condition in event_conditions:\n",
    "    prob = compute_event_probability(event_condition, weighted_sample_space)\n",
    "    name = event_condition.__name__\n",
    "    print(f'Probability of event arising from \\'{name}\\' is {prob}')"
   ]
  },
  {
   "cell_type": "markdown",
   "metadata": {},
   "source": [
    "# Computing non-trivial probabilities"
   ]
  },
  {
   "cell_type": "markdown",
   "metadata": {},
   "source": [
    "With just a few lines of code we have been able to construct a tool for solving many problems in probability. We are now going to use this tool to solve more complex problems \n",
    " "
   ]
  },
  {
   "cell_type": "markdown",
   "metadata": {},
   "source": [
    "Suppose a family has four children. What is the probability that exactly two of the chil-\n",
    "dren are boys? We’ll assume that each child is equally likely to be either a boy or a girl.\n"
   ]
  },
  {
   "cell_type": "code",
   "execution_count": 12,
   "metadata": {},
   "outputs": [
    {
     "name": "stdout",
     "output_type": "stream",
     "text": [
      "{('Boy', 'Boy', 'Boy', 'Boy'), ('Boy', 'Boy', 'Boy', 'Girl'), ('Boy', 'Girl', 'Boy', 'Boy'), ('Boy', 'Girl', 'Boy', 'Girl'), ('Girl', 'Boy', 'Girl', 'Girl'), ('Girl', 'Girl', 'Girl', 'Boy'), ('Girl', 'Girl', 'Girl', 'Girl'), ('Boy', 'Girl', 'Girl', 'Boy'), ('Girl', 'Boy', 'Boy', 'Boy'), ('Girl', 'Boy', 'Boy', 'Girl'), ('Girl', 'Boy', 'Girl', 'Boy'), ('Boy', 'Girl', 'Girl', 'Girl'), ('Girl', 'Girl', 'Boy', 'Boy'), ('Girl', 'Girl', 'Boy', 'Girl'), ('Boy', 'Boy', 'Girl', 'Boy'), ('Boy', 'Boy', 'Girl', 'Girl')}\n"
     ]
    }
   ],
   "source": [
    "# Computing the smaple space of children \n",
    "possible_children = ['Boy', 'Girl']\n",
    "sample_space = set()\n",
    "for child_1 in possible_children:\n",
    "    for child_2 in possible_children:\n",
    "        for child_3 in possible_children:\n",
    "            for child_4 in possible_children:\n",
    "                outcome = (child_1, child_2, child_3, child_4)\n",
    "                sample_space.add(outcome)\n",
    "\n",
    "print(sample_space)"
   ]
  },
  {
   "cell_type": "code",
   "execution_count": 13,
   "metadata": {},
   "outputs": [],
   "source": [
    "# We ran four nested for loops to explore the sequences of four births but this is not an efficient\n",
    "# use of code. We are going to use the itertools.product function to make our code more efficient \n",
    "from itertools import product\n",
    "all_combinations = product(*(4 * [possible_children]))"
   ]
  },
  {
   "cell_type": "code",
   "execution_count": 14,
   "metadata": {},
   "outputs": [],
   "source": [
    "# We can even to make our code more efficient by using repeat\n",
    "sample_space_efficient = set(product(possible_children, repeat=4))\n",
    "assert sample_space == sample_space_efficient"
   ]
  },
  {
   "cell_type": "code",
   "execution_count": 15,
   "metadata": {},
   "outputs": [
    {
     "name": "stdout",
     "output_type": "stream",
     "text": [
      "Probability of 2 boys is 0.375\n"
     ]
    }
   ],
   "source": [
    "# Now we are going to calculate for the fraction of sample_space that is composed of families with two boys \n",
    "# Let us define a has_two_boys event condition and then pass the condition into compute event_probability\n",
    "def has_two_boys(outcome):\n",
    "    return len([child for child in outcome if child =='Boy']) == 2\n",
    "\n",
    "prob = compute_event_probability(has_two_boys, sample_space)\n",
    "print(f'Probability of 2 boys is 0.375')"
   ]
  },
  {
   "cell_type": "markdown",
   "metadata": {},
   "source": [
    "The probability of exactly two boys being born in a family of four children is 0.375. By implication, we expect 37.5% of families with four children to contain an equal number of boys and girls. Of course, the actual observed percentage of families with two boys will vary due to random chance.\n"
   ]
  },
  {
   "cell_type": "markdown",
   "metadata": {},
   "source": [
    "# Analyzing multiple die rolls "
   ]
  },
  {
   "cell_type": "code",
   "execution_count": 16,
   "metadata": {},
   "outputs": [
    {
     "name": "stdout",
     "output_type": "stream",
     "text": [
      "[1, 2, 3, 4, 5, 6]\n"
     ]
    }
   ],
   "source": [
    "# If we're shown a fair six-sided die whose faces are numbered 1 - 6. The die is rolled 6 times. What is \n",
    "# the probability that these six die rolls add up to 21. We are going to begin by defining the possible\n",
    "# values of any single die roll\n",
    "possible_rolls = list(range(1, 7))\n",
    "print(possible_rolls)"
   ]
  },
  {
   "cell_type": "code",
   "execution_count": 17,
   "metadata": {},
   "outputs": [],
   "source": [
    "# Now we will create a sample space for 6 consecutive rolls using the product function \n",
    "sample_space = set(product(possible_rolls, repeat=6))"
   ]
  },
  {
   "cell_type": "code",
   "execution_count": 18,
   "metadata": {},
   "outputs": [
    {
     "name": "stdout",
     "output_type": "stream",
     "text": [
      "6 rolls sum to 21 with a probability of 0.09284979423868313\n"
     ]
    }
   ],
   "source": [
    "# We will now define a has_sum_of_21 event condition that we will pass into compute_event_probability \n",
    "def has_sum_of_21(outcome):\n",
    "    return sum(outcome) == 21\n",
    "\n",
    "prob = compute_event_probability(has_sum_of_21, sample_space)\n",
    "print(f'6 rolls sum to 21 with a probability of {prob}')"
   ]
  },
  {
   "cell_type": "code",
   "execution_count": 19,
   "metadata": {},
   "outputs": [
    {
     "name": "stdout",
     "output_type": "stream",
     "text": [
      "0.09284979423868313\n"
     ]
    }
   ],
   "source": [
    "# Let us try using a lambda expression to make our code more concise\n",
    "prob = compute_event_probability(lambda x: sum(x) == 21, sample_space)\n",
    "assert prob == compute_event_probability(has_sum_of_21, sample_space)\n",
    "print(prob)"
   ]
  },
  {
   "cell_type": "markdown",
   "metadata": {},
   "source": [
    "# Computing die-roll probabilities using weighted sample spaces"
   ]
  },
  {
   "cell_type": "code",
   "execution_count": 20,
   "metadata": {},
   "outputs": [],
   "source": [
    "from collections import defaultdict\n",
    "weighted_sample_space = defaultdict(int)\n",
    "for outcome in sample_space:\n",
    "    total = sum(outcome)\n",
    "    weighted_sample_space[total] += 1"
   ]
  },
  {
   "cell_type": "code",
   "execution_count": 21,
   "metadata": {},
   "outputs": [
    {
     "data": {
      "text/plain": [
       "4332"
      ]
     },
     "execution_count": 21,
     "metadata": {},
     "output_type": "execute_result"
    }
   ],
   "source": [
    "# Let's check the weighted sample space for 21. We will see that there are 4332 ways for 6 die to sum up to 21\n",
    "weighted_sample_space[21]"
   ]
  },
  {
   "cell_type": "code",
   "execution_count": 22,
   "metadata": {},
   "outputs": [
    {
     "data": {
      "text/plain": [
       "4332"
      ]
     },
     "execution_count": 22,
     "metadata": {},
     "output_type": "execute_result"
    }
   ],
   "source": [
    "# Let us try to see the relationship between weighted events and regular events \n",
    "event = get_matching_event(lambda x: sum(x) == 21, sample_space)\n",
    "assert weighted_sample_space[21] == len(event)\n",
    "assert sum(weighted_sample_space.values()) == len(sample_space)\n",
    "len(event)\n"
   ]
  },
  {
   "cell_type": "code",
   "execution_count": 23,
   "metadata": {},
   "outputs": [
    {
     "name": "stdout",
     "output_type": "stream",
     "text": [
      "6 rolls sum to 21 with a probabiity of 0.09284979423868313\n"
     ]
    }
   ],
   "source": [
    "# Let us now recompute the probability using the weighted sample_space_dictionary\n",
    "prob = compute_event_probability(lambda x: x == 21, weighted_sample_space)\n",
    "assert prob == compute_event_probability(has_sum_of_21, sample_space)\n",
    "print(f'6 rolls sum to 21 with a probabiity of {prob}')\n"
   ]
  },
  {
   "cell_type": "code",
   "execution_count": 24,
   "metadata": {},
   "outputs": [
    {
     "name": "stdout",
     "output_type": "stream",
     "text": [
      "Number of Elements in Unweighted Sample Space:\n",
      "46656\n",
      "Number of Elements in Weighted Sample Space:\n",
      "31\n"
     ]
    }
   ],
   "source": [
    "# Now what is the advantage of using a weighted sample space over an unweighted sample spacee\n",
    "# Less memory usage and we are going to see that for ourselves now \n",
    "print('Number of Elements in Unweighted Sample Space:')\n",
    "print(len(sample_space))\n",
    "print('Number of Elements in Weighted Sample Space:')\n",
    "print(len(weighted_sample_space))\n"
   ]
  },
  {
   "cell_type": "markdown",
   "metadata": {},
   "source": [
    "# Computing probabilities over interval ranges "
   ]
  },
  {
   "cell_type": "code",
   "execution_count": 25,
   "metadata": {},
   "outputs": [],
   "source": [
    "# Let us define an is_in_interval function that checks whether a number falls within a specified interval \n",
    "def is_in_interval(number, minimum, maximum):\n",
    "    return minimum <= number <= maximum"
   ]
  },
  {
   "cell_type": "code",
   "execution_count": 26,
   "metadata": {},
   "outputs": [
    {
     "name": "stdout",
     "output_type": "stream",
     "text": [
      "probability of interval is 0.5446244855967078\n"
     ]
    }
   ],
   "source": [
    "# With the above function we can compute the probability that an event's associated value falls within some numeric range\n",
    "# Let us compute the likelihood that our six consecutive die rolls sum to a value between 10 and 21(inclusive)\n",
    "prob = compute_event_probability(lambda x: is_in_interval(x, 10, 21), weighted_sample_space)\n",
    "print(f'probability of interval is {prob}')\n"
   ]
  },
  {
   "cell_type": "markdown",
   "metadata": {},
   "source": [
    "Evaluating extremes using interval analysis \n"
   ]
  },
  {
   "cell_type": "code",
   "execution_count": 27,
   "metadata": {},
   "outputs": [],
   "source": [
    "# For reusability we are going to define a general function that returns a weighted sample space for \n",
    "# for num_flips coin flips. The num_flips parameter is preset to 10 coin flips \n",
    "def generate_coin_sample_space(num_flips = 10):\n",
    "    weighted_sample_space = defaultdict(int)\n",
    "    for coin_flips in product(['Heads', 'Tails' ],repeat= num_flips):\n",
    "        heads_count = len([outcome for outcome in coin_flips\n",
    "                            if outcome == 'Heads'])\n",
    "        weighted_sample_space[heads_count] += 1 \n",
    "    return weighted_sample_space\n",
    "\n",
    "weighted_sample_space = generate_coin_sample_space()\n",
    "assert weighted_sample_space[10] == 1\n",
    "assert weighted_sample_space[9] == 10\n"
   ]
  },
  {
   "cell_type": "code",
   "execution_count": 28,
   "metadata": {},
   "outputs": [
    {
     "name": "stdout",
     "output_type": "stream",
     "text": [
      "Probability of observing more than 7 heads is 0.0546875\n"
     ]
    }
   ],
   "source": [
    "# Our weighted sample space is ready. Now we compute the probability of observing an interval from 8-10 heads\n",
    "prob = compute_event_probability(lambda x: is_in_interval(x, 8, 10), weighted_sample_space)\n",
    "print(f'Probability of observing more than 7 heads is {prob}')"
   ]
  },
  {
   "cell_type": "code",
   "execution_count": 29,
   "metadata": {},
   "outputs": [
    {
     "name": "stdout",
     "output_type": "stream",
     "text": [
      "Probability of observing more than 7 heads or 7 tails is 0.109375\n"
     ]
    }
   ],
   "source": [
    "# Ten fair coin flips produce more than 7 heads 5% of the time \n",
    "# To evaluate the fairness of our coin, we must include the likelihood of observing eight tails or more \n",
    "# This is equivalent to observing 2 heads or fewer \n",
    "# Let us formulate the problem as follows\n",
    "# What is the probability that 10 fair coin flips produce either 0-2 heads or 8-10 heads or to be more precise\n",
    "# What is the probability that the coin flips do not produce from 3-7 heads \n",
    "prob = compute_event_probability(lambda x: not is_in_interval(x, 3, 7), weighted_sample_space)\n",
    "print(f'Probability of observing more than 7 heads or 7 tails is {prob}')"
   ]
  },
  {
   "cell_type": "code",
   "execution_count": 30,
   "metadata": {},
   "outputs": [
    {
     "name": "stdout",
     "output_type": "stream",
     "text": [
      "The probability of observing more than 15 heads or 15 tails is 0.01181793212890625\n"
     ]
    }
   ],
   "source": [
    "# Ten fair coin flips produce at least eight identical results approximately 10% of the time\n",
    "# The probability is low but still plausible \n",
    "# Without additional evidence it is difficult to know if the coin is truly biased so we will have to get the evidence\n",
    "# Let us find the probability of 20 coin flips not producing 5 to 15 heads\n",
    "weighted_sample_space_20_flips = generate_coin_sample_space(num_flips=20)\n",
    "prob = compute_event_probability(lambda x: not is_in_interval(x, 5, 15), weighted_sample_space_20_flips)\n",
    "print(f'The probability of observing more than 15 heads or 15 tails is {prob}')"
   ]
  },
  {
   "cell_type": "markdown",
   "metadata": {},
   "source": [
    "The updated probability has dropped from approximately 0.1 to 0.01. Thus the added evidence has caused a tenfold increase in our confidence in the coin's fairness. Despite this probability drop, the ratio of heads to tails has remained constant at 4 to 1.\n",
    "Now we are going to use Matplotlib library to plot probabilities. "
   ]
  },
  {
   "cell_type": "markdown",
   "metadata": {},
   "source": [
    "# Visualization\n"
   ]
  },
  {
   "cell_type": "code",
   "execution_count": 31,
   "metadata": {},
   "outputs": [],
   "source": [
    "import matplotlib.pyplot as plt"
   ]
  },
  {
   "cell_type": "code",
   "execution_count": 32,
   "metadata": {},
   "outputs": [
    {
     "data": {
      "image/png": "[encoded data removed]",
      "text/plain": [
       "<Figure size 432x288 with 1 Axes>"
      ]
     },
     "metadata": {
      "needs_background": "light"
     },
     "output_type": "display_data"
    }
   ],
   "source": [
    "# Let us try plotting a linear relationship\n",
    "x = range(0, 10)\n",
    "y = [2 * value for value in x]\n",
    "plt.plot(x, y)\n",
    "plt.show()"
   ]
  },
  {
   "cell_type": "code",
   "execution_count": 33,
   "metadata": {},
   "outputs": [
    {
     "data": {
      "image/png": "[encoded data removed]",
      "text/plain": [
       "<Figure size 432x288 with 1 Axes>"
      ]
     },
     "metadata": {
      "needs_background": "light"
     },
     "output_type": "display_data"
    }
   ],
   "source": [
    "# If we want to view the points individually we can use the plt.scatter function\n",
    "plt.scatter(x, y)\n",
    "plt.show()"
   ]
  },
  {
   "cell_type": "code",
   "execution_count": 34,
   "metadata": {},
   "outputs": [
    {
     "data": {
      "image/png": "[encoded data removed]",
      "text/plain": [
       "<Figure size 432x288 with 1 Axes>"
      ]
     },
     "metadata": {
      "needs_background": "light"
     },
     "output_type": "display_data"
    }
   ],
   "source": [
    "# If we want to visualize a plot with a shaded region representing an interval we use the plt.fill_between() method\n",
    "plt.plot(x, y)\n",
    "where = [is_in_interval(value, 2, 6 ) for value in x]\n",
    "plt.fill_between(x, y, where=where)\n",
    "plt.show()"
   ]
  },
  {
   "cell_type": "code",
   "execution_count": 35,
   "metadata": {},
   "outputs": [
    {
     "data": {
      "image/png": "[encoded data removed]",
      "text/plain": [
       "<Figure size 432x288 with 1 Axes>"
      ]
     },
     "metadata": {
      "needs_background": "light"
     },
     "output_type": "display_data"
    }
   ],
   "source": [
    "# Let us visualize everything we've tried so far in one plot\n",
    "plt.scatter(x, y)\n",
    "plt.plot(x, y)\n",
    "plt.fill_between(x, y, where=where)\n",
    "plt.show()"
   ]
  },
  {
   "cell_type": "code",
   "execution_count": 36,
   "metadata": {},
   "outputs": [
    {
     "data": {
      "image/png": "[encoded data removed]",
      "text/plain": [
       "<Figure size 432x288 with 1 Axes>"
      ]
     },
     "metadata": {
      "needs_background": "light"
     },
     "output_type": "display_data"
    }
   ],
   "source": [
    "# No data plot is ever truly complete without x-axis label and y-axis label so let's add that\n",
    "plt.plot(x, y)\n",
    "plt.xlabel('Values between zero and ten')\n",
    "plt.ylabel('Twice the values of x')\n",
    "plt.show()"
   ]
  },
  {
   "cell_type": "markdown",
   "metadata": {},
   "source": [
    "Plotting coin-flip probabilities"
   ]
  },
  {
   "cell_type": "code",
   "execution_count": 37,
   "metadata": {},
   "outputs": [
    {
     "data": {
      "image/png": "[encoded data removed]",
      "text/plain": [
       "<Figure size 432x288 with 1 Axes>"
      ]
     },
     "metadata": {
      "needs_background": "light"
     },
     "output_type": "display_data"
    }
   ],
   "source": [
    "# Now we are going to compare the plotted data from the wighted_sample_space dictionary and the\n",
    "# weighted_sample_space_20_flips dictionary\n",
    "x_10_flips = list(weighted_sample_space.keys())\n",
    "y_10_flips = [weighted_sample_space[key] for key in x_10_flips]\n",
    "plt.scatter(x_10_flips, y_10_flips)\n",
    "plt.xlabel('Head count')\n",
    "plt.ylabel('Number of coin-flip combinations with x heads')\n",
    "plt.show()"
   ]
  },
  {
   "cell_type": "code",
   "execution_count": 38,
   "metadata": {},
   "outputs": [
    {
     "data": {
      "image/png": "[encoded data removed]",
      "text/plain": [
       "<Figure size 432x288 with 1 Axes>"
      ]
     },
     "metadata": {
      "needs_background": "light"
     },
     "output_type": "display_data"
    }
   ],
   "source": [
    "# From the above visualiztion we can notice a peak at 5 meaning combinations closer to 5 occur more frequently tha those further from 5\n",
    "# Thus a head count is more probable when it is closer to 5 \n",
    "# Let us emphasize this by plotting the probabilities directly on the y-axis \n",
    "# We can compute the probbilities by taking our existing combination counts and dividing them by the total sample size \n",
    "sample_space_size = sum(weighted_sample_space.values())\n",
    "prob_x_10_flips = [value / sample_space_size for value in y_10_flips]\n",
    "plt.scatter(x_10_flips, prob_x_10_flips)\n",
    "plt.xlabel('Head count')\n",
    "plt.ylabel('Probability')\n",
    "plt.show()"
   ]
  },
  {
   "cell_type": "code",
   "execution_count": 39,
   "metadata": {},
   "outputs": [],
   "source": [
    "# Our plot above aids us to visually estimate the probability of any head count\n",
    "# Just by looking at the plot we can see that the probability of observing 5 heads is approximately 0.25\n",
    "# This mapping between x-values and probabilities is known a probability distribution\n",
    "# Let us not forget that all probabilities must sum up to 1.0, let us confirm this\n",
    "assert sum(prob_x_10_flips) == 1.0"
   ]
  },
  {
   "cell_type": "code",
   "execution_count": 40,
   "metadata": {},
   "outputs": [
    {
     "data": {
      "image/png": "[encoded data removed]",
      "text/plain": [
       "<Figure size 432x288 with 1 Axes>"
      ]
     },
     "metadata": {
      "needs_background": "light"
     },
     "output_type": "display_data"
    }
   ],
   "source": [
    "# Let us try shading the area under a probability curve\n",
    "plt.plot(x_10_flips, prob_x_10_flips)\n",
    "plt.scatter(x_10_flips, prob_x_10_flips)\n",
    "where = [is_in_interval(value, 8, 10) for value in x_10_flips]\n",
    "plt.fill_between(x_10_flips, prob_x_10_flips, where = where)\n",
    "plt.xlabel('Head count')\n",
    "plt.ylabel('Probability')\n",
    "plt.show()"
   ]
  },
  {
   "cell_type": "code",
   "execution_count": 41,
   "metadata": {},
   "outputs": [
    {
     "data": {
      "image/png": "[encoded data removed]",
      "text/plain": [
       "<Figure size 432x288 with 1 Axes>"
      ]
     },
     "metadata": {
      "needs_background": "light"
     },
     "output_type": "display_data"
    }
   ],
   "source": [
    "# Now we are going to shade the intervals under the extreme points\n",
    "\n",
    "plt.plot(x_10_flips, prob_x_10_flips)\n",
    "plt.scatter(x_10_flips, prob_x_10_flips)\n",
    "where = [not is_in_interval(value, 3, 7) for value in x_10_flips]\n",
    "plt.fill_between(x_10_flips, prob_x_10_flips, where = where)\n",
    "plt.xlabel('Head count')\n",
    "plt.ylabel('Probability')\n",
    "plt.show()"
   ]
  },
  {
   "cell_type": "code",
   "execution_count": 42,
   "metadata": {},
   "outputs": [],
   "source": [
    "# Computing probabilities for a 20-coin-flip distribution\n",
    "\n",
    "x_20_flips = list(weighted_sample_space_20_flips.keys())\n",
    "y_20_flips = [weighted_sample_space_20_flips[key] for key in x_20_flips]\n",
    "sample_space_size = sum(weighted_sample_space_20_flips.values())\n",
    "prob_x_20_flips = [value / sample_space_size for value in y_20_flips]"
   ]
  },
  {
   "cell_type": "code",
   "execution_count": 44,
   "metadata": {},
   "outputs": [
    {
     "data": {
      "image/png": "[encoded data removed]",
      "text/plain": [
       "<Figure size 432x288 with 1 Axes>"
      ]
     },
     "metadata": {
      "needs_background": "light"
     },
     "output_type": "display_data"
    }
   ],
   "source": [
    "plt.plot(x_10_flips, prob_x_10_flips, label='A: 10 coin-flips')\n",
    "plt.scatter(x_10_flips, prob_x_10_flips)\n",
    "plt.plot(x_20_flips, prob_x_20_flips, color='black', linestyle='--',\n",
    "label='B: 20 coin-flips')\n",
    "plt.scatter(x_20_flips, prob_x_20_flips, color='k', marker='x')\n",
    "plt.xlabel('Head-count')\n",
    "plt.ylabel('Probability')\n",
    "plt.legend()\n",
    "plt.show()\n"
   ]
  },
  {
   "cell_type": "code",
   "execution_count": 45,
   "metadata": {},
   "outputs": [
    {
     "data": {
      "image/png": "[encoded data removed]",
      "text/plain": [
       "<Figure size 432x288 with 1 Axes>"
      ]
     },
     "metadata": {
      "needs_background": "light"
     },
     "output_type": "display_data"
    }
   ],
   "source": [
    "# Highlighting interval beneath two plotted distributions\n",
    "\n",
    "plt.plot(x_10_flips, prob_x_10_flips, label='A: 10 coin-flips')\n",
    "plt.plot(x_20_flips, prob_x_20_flips, color='k', linestyle=':',\n",
    "label='B: 20 coin-flips')\n",
    "where_10 = [not is_in_interval(value, 3, 7) for value in x_10_flips]\n",
    "plt.fill_between(x_10_flips, prob_x_10_flips, where=where_10)\n",
    "where_20 = [not is_in_interval(value, 5, 15) for value in x_20_flips]\n",
    "plt.fill_between(x_20_flips, prob_x_20_flips, where=where_20)\n",
    "plt.xlabel('Head-Count')\n",
    "plt.ylabel('Probability')\n",
    "plt.legend()\n",
    "plt.show()\n",
    "\n"
   ]
  }
 ],
 "metadata": {
  "interpreter": {
   "hash": "cc67e168efdc361a25239fa0e109cde6befee0b1b605914ac1a972633e145544"
  },
  "kernelspec": {
   "display_name": "Python 3.8.8 ('base')",
   "language": "python",
   "name": "python3"
  },
  "language_info": {
   "codemirror_mode": {
    "name": "ipython",
    "version": 3
   },
   "file_extension": ".py",
   "mimetype": "text/x-python",
   "name": "python",
   "nbconvert_exporter": "python",
   "pygments_lexer": "ipython3",
   "version": "3.8.8"
  },
  "orig_nbformat": 4
 },
 "nbformat": 4,
 "nbformat_minor": 2
}
